{
 "cells": [
  {
   "cell_type": "code",
   "execution_count": 69,
   "metadata": {},
   "outputs": [],
   "source": [
    "import os\n",
    "import numpy as np\n",
    "from tqdm import tqdm\n",
    "import random\n",
    "from matplotlib import pyplot as plt\n",
    "GT_DATA_FILE = \"/common/users/shared/double_pendulum/acrobot_u2_gt.txt\"\n",
    "TRAJECTORY_DATA_FOLDERS = [\"/common/users/shared/double_pendulum/acrobot_real_pid_u2_lqr\", \"/common/users/shared/double_pendulum/acrobot_real_vel20_lqr\"]"
   ]
  },
  {
   "cell_type": "code",
   "execution_count": 27,
   "metadata": {},
   "outputs": [],
   "source": [
    "with open(GT_DATA_FILE, \"r\") as f:\n",
    "    data = f.readlines()\n",
    "random.shuffle(data)"
   ]
  },
  {
   "cell_type": "code",
   "execution_count": null,
   "metadata": {},
   "outputs": [
    {
     "name": "stderr",
     "output_type": "stream",
     "text": [
      "  0%|          | 0/356337 [00:00<?, ?it/s]"
     ]
    },
    {
     "name": "stderr",
     "output_type": "stream",
     "text": [
      "100%|██████████| 356337/356337 [00:01<00:00, 332407.90it/s]\n"
     ]
    },
    {
     "data": {
      "text/plain": [
       "((356337, 4), (356337,))"
      ]
     },
     "execution_count": 31,
     "metadata": {},
     "output_type": "execute_result"
    }
   ],
   "source": [
    "inputs = []\n",
    "labels = []\n",
    "sub_data = data[::50]\n",
    "for line in tqdm(sub_data):\n",
    "    line_data = line.strip().split(\" \")\n",
    "    line_data = np.array([float(x) for x in line_data if x != \"\"])\n",
    "    inputs.append(line_data[:4])\n",
    "    labels.append(line_data[-1])\n",
    "inputs = np.array(inputs)\n",
    "labels = np.array(labels)\n",
    "np.min(inputs, axis=0), np.max(inputs, axis=0), np.mean(inputs, axis=0), np.std(inputs, axis=0), inputs.shape, labels.shape"
   ]
  },
  {
   "cell_type": "code",
   "execution_count": 32,
   "metadata": {},
   "outputs": [
    {
     "data": {
      "text/plain": [
       "Counter({np.float64(0.0): 351037, np.float64(1.0): 5300})"
      ]
     },
     "execution_count": 32,
     "metadata": {},
     "output_type": "execute_result"
    }
   ],
   "source": [
    "from collections import Counter\n",
    "Counter(labels)"
   ]
  },
  {
   "cell_type": "code",
   "execution_count": 46,
   "metadata": {},
   "outputs": [
    {
     "name": "stderr",
     "output_type": "stream",
     "text": [
      "100%|██████████| 10/10 [00:00<00:00, 259.62it/s]\n",
      "100%|██████████| 10/10 [00:00<00:00, 284.61it/s]\n"
     ]
    },
    {
     "data": {
      "text/plain": [
       "[-0.35, 0.25, 1.9, -0.4]"
      ]
     },
     "execution_count": 46,
     "metadata": {},
     "output_type": "execute_result"
    }
   ],
   "source": [
    "# len(traj_data)\n",
    "\n",
    "traj_data = []\n",
    "for folder in TRAJECTORY_DATA_FOLDERS:\n",
    "    for file in tqdm(os.listdir(folder)[:10]):\n",
    "        with open(os.path.join(folder, file), \"r\") as f:\n",
    "            record = False\n",
    "            all_data = f.readlines()\n",
    "            traj = []\n",
    "            for i, line in enumerate(all_data):\n",
    "                if record:\n",
    "                    traj.append([float(x) for x in line.strip().split(\" \") if x != \"\"][:4])\n",
    "                if line.strip() == \"\":\n",
    "                    record = True\n",
    "        traj_data.append(traj)\n",
    "one = [float(x) for x in data[0].strip().split(\" \") if x != \"\"][:4]\n",
    "one"
   ]
  },
  {
   "cell_type": "code",
   "execution_count": 47,
   "metadata": {},
   "outputs": [
    {
     "data": {
      "text/plain": [
       "20"
      ]
     },
     "execution_count": 47,
     "metadata": {},
     "output_type": "execute_result"
    }
   ],
   "source": [
    "len(traj_data)"
   ]
  },
  {
   "cell_type": "code",
   "execution_count": 67,
   "metadata": {},
   "outputs": [
    {
     "data": {
      "text/plain": [
       "(array([ -9.47821, -12.56637, -12.02792, -11.54191]),\n",
       " array([ 9.54262,  7.72675, 12.28984, 25.     ]),\n",
       " array([ 0.22626603,  0.00689254,  0.14092355, -0.00486601]),\n",
       " array([4.64045944, 5.61843788, 1.14904744, 1.60283257]))"
      ]
     },
     "execution_count": 67,
     "metadata": {},
     "output_type": "execute_result"
    }
   ],
   "source": [
    "# traj_data = np.array(traj_data)\n",
    "# traj_data.shape\n",
    "# np.min(traj_data, axis=1), np.max(traj_data, axis=1), np.mean(traj_data, axis=1), np.std(traj_data, axis=1)\n",
    "all_dp = np.vstack(traj_data)\n",
    "np.min(all_dp, axis=0), np.max(all_dp, axis=0), np.mean(all_dp, axis=0), np.std(all_dp, axis=0)"
   ]
  },
  {
   "cell_type": "code",
   "execution_count": 84,
   "metadata": {},
   "outputs": [
    {
     "data": {
      "text/plain": [
       "11"
      ]
     },
     "execution_count": 84,
     "metadata": {},
     "output_type": "execute_result"
    },
    {
     "data": {
      "image/png": "[encoded data removed]",
      "text/plain": [
       "<Figure size 640x480 with 1 Axes>"
      ]
     },
     "metadata": {},
     "output_type": "display_data"
    }
   ],
   "source": [
    "idx = np.random.randint(0, len(traj_data))\n",
    "plt.scatter(traj_data[idx,:, 0], traj_data[idx,:, 1])\n",
    "idx"
   ]
  },
  {
   "cell_type": "code",
   "execution_count": 86,
   "metadata": {},
   "outputs": [
    {
     "data": {
      "text/plain": [
       "-9.42477796076938"
      ]
     },
     "execution_count": 86,
     "metadata": {},
     "output_type": "execute_result"
    }
   ],
   "source": [
    "-3 * np.pi"
   ]
  },
  {
   "cell_type": "code",
   "execution_count": null,
   "metadata": {},
   "outputs": [],
   "source": []
  }
 ],
 "metadata": {
  "kernelspec": {
   "display_name": "mjxrl",
   "language": "python",
   "name": "python3"
  },
  "language_info": {
   "codemirror_mode": {
    "name": "ipython",
    "version": 3
   },
   "file_extension": ".py",
   "mimetype": "text/x-python",
   "name": "python",
   "nbconvert_exporter": "python",
   "pygments_lexer": "ipython3",
   "version": "3.11.11"
  }
 },
 "nbformat": 4,
 "nbformat_minor": 2
}
